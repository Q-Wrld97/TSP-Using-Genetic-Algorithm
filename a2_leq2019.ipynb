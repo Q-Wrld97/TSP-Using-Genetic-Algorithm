{
 "cells": [
  {
   "attachments": {},
   "cell_type": "markdown",
   "metadata": {},
   "source": [
    "<h1>Project: Project #2 TSP Genetic Algorithm</h1>\n",
    "<h4>Course: CAP4630 001</h4>\n",
    "<h4>Team Members: Adam Clark, Mahmood Sakib, Quang Le</h4>\n",
    "<h4>Date: 06/10/2023</h4>"
   ]
  },
  {
   "attachments": {},
   "cell_type": "markdown",
   "metadata": {},
   "source": [
    "<h3>Overview</h3>\n",
    "\n",
    "<body>\n",
    "The Traveling Salesman Problem (TSP) is about finding the shortest route that visits a list of cities and returns to the starting city. It's a challenging problem with no known fast solution also known as NP-hard, meaning that there is no known polynomial time solution to the problem.However, there are approximate algorithms like the genetic algorithm that can find solutions close to the optimal one such as Ant Colony or Genetic Algorithm. In this project, we will be using the genetic algorithm to solve the TSP problem. The genetic algorithm is a metaheuristic(high-level problem-solving strategies that guide the exploration and exploitation of search spaces to find near-optimal solutions) inspired by the process of natural selection that belongs to the larger class of evolutionary algorithms. The genetic algorithm repeatedly modifies a population of individual solutions. At each step, the genetic algorithm selects individuals at random from the current population to be parents and uses them to produce the children for the next generation. Over successive generations, the population \"evolves\" toward an optimal solution. Althought there are many variations of the genetic algorithm, they will boil down to these basic step:\n",
    "\n",
    "1. Initialization - create an initial population\n",
    "2. Selection - select parents from the population\n",
    "3. Crossover - create offspring by mating parents\n",
    "4. Mutation- mutate offspring\n",
    "5. reapeat 2-4 until terminatal condition is met\n",
    "<body>"
   ]
  },
  {
   "attachments": {},
   "cell_type": "markdown",
   "metadata": {},
   "source": [
    "<h3>How were the cities and distances represented (as a data structure)?</h3>\n",
    " <body>\n",
    " The cities are represented using a dictionary data structure where the keys represent the city numbers and the values are tuples containing the x and y coordinates of each city. This representation allows easy access to the coordinates of a city for distance calculation. Furthermore the distance are calculated using the distance formula square root of (x2-x1)^2 + (y2-y1)^2 which will be use in our fitness fuction later on.\n",
    " </body>"
   ]
  },
  {
   "cell_type": "code",
   "execution_count": 2,
   "metadata": {},
   "outputs": [],
   "source": [
    "import random\n",
    "import math\n",
    "\n",
    "#generate cities\n",
    "def generate_cities (n=25, width=200, height=200):\n",
    "  cities= {}\n",
    "  random.seed(1) #setting the seed to 1 for reproducibility\n",
    "  for i in range (n): #generating n cities\n",
    "    x = random.uniform(0, width)  #random x coordinate 0-200\n",
    "    y = random.uniform(0, height) #random y coordinate 0-200\n",
    "    cities[i+1] = (int(x),int(y)) #adding the city to the dictionary\n",
    "  return cities \n",
    "\n",
    "#calculate distance between two cities\n",
    "def calculate_distance (cityA, cityB): \n",
    "  xDis = abs(cityA[0] - cityB[0])\n",
    "  yDis = abs(cityA[1] - cityB[1])\n",
    "  return (math.sqrt((xDis**2)+(yDis**2))) #distance between two points formula"
   ]
  },
  {
   "attachments": {},
   "cell_type": "markdown",
   "metadata": {},
   "source": [
    "<h3>How did you encode the solution space?</h3>\n",
    "<body>\n",
    "The solution space is encoded as permutations of the cities. Each solution in the population is represented as a list of city numbers, where the order of the numbers determines the sequence of visiting the cities.\n",
    "</body>\n",
    "<h3>How did you handle the creation of the initial population?</h3>\n",
    "<body>\n",
    "The initial population is created using the <i>create_Initial_Population</i> function. It generates a population of a specified size where each solution is a randomly generated permutation of city numbers. The <i>random.sample</i> function is used to ensure that no city is repeated within a solution.\n",
    "</body>"
   ]
  },
  {
   "cell_type": "code",
   "execution_count": 1,
   "metadata": {},
   "outputs": [],
   "source": [
    "#creating the inital population for the genetic algorithm\n",
    "def create_Initial_Population (size_population,size_cities):\n",
    "  population = []\n",
    "  random.seed() \n",
    "  for i in range (size_population): #creating a population of n solutions\n",
    "      population.append(random.sample(range(1, size_cities+1), size_cities))   #creating a solution of n cities but with no duplicates\n",
    "  return population"
   ]
  },
  {
   "attachments": {},
   "cell_type": "markdown",
   "metadata": {},
   "source": [
    "<h3>How did you compute the fitness score?</h3>\n",
    "<body>\n",
    "the fitness score is computed by calculating the total distance traveled in each solution. The fitness function iterates over each solution in the population. For each solution, it calculates the distance between consecutive cities using the calculate_distance function. If during the iteration get an <i>out of range</i> error it mean that we reach the last city and can calculates the distance from the last city to the inital city we started and sums them up to get the total distance if the last city. The fitness score for each solution is the sum of distances.\n",
    "</body>"
   ]
  },
  {
   "cell_type": "code",
   "execution_count": 2,
   "metadata": {},
   "outputs": [],
   "source": [
    "#calculating the fitness of each solution\n",
    "def fitness (population,cityList):\n",
    "  fitness_per_solution= [] #list of fitness for per solution\n",
    "  fitness = [] #list of fitness for each solution\n",
    "  for i in range (len(population)): #for each solution\n",
    "    for j in range (len(population[i])):  #for each city in the solution    \n",
    "      try:\n",
    "        fitness_per_solution.append(int(calculate_distance(cityList[population[i][j]],cityList[population[i][j+1]]))) #calculating the distance between two cities\n",
    "      except IndexError:\n",
    "        fitness_per_solution.append(int(calculate_distance(cityList[population[i][j]],cityList[population[i][0]]))) #calculating the distance between the last city and the first city\n",
    "    fitness.append(sum(fitness_per_solution)) #summing the distance between all cities in the solution\n",
    "    fitness_per_solution= [] #list of fitness for per solution\n",
    "  return fitness  "
   ]
  }
 ],
 "metadata": {
  "kernelspec": {
   "display_name": "Python 3",
   "language": "python",
   "name": "python3"
  },
  "language_info": {
   "codemirror_mode": {
    "name": "ipython",
    "version": 3
   },
   "file_extension": ".py",
   "mimetype": "text/x-python",
   "name": "python",
   "nbconvert_exporter": "python",
   "pygments_lexer": "ipython3",
   "version": "3.10.10"
  },
  "orig_nbformat": 4
 },
 "nbformat": 4,
 "nbformat_minor": 2
}
